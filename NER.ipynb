{
  "nbformat": 4,
  "nbformat_minor": 0,
  "metadata": {
    "colab": {
      "name": "solution.ipynb",
      "version": "0.3.2",
      "provenance": [],
      "collapsed_sections": []
    },
    "kernelspec": {
      "name": "python3",
      "display_name": "Python 3"
    },
    "accelerator": "GPU"
  },
  "cells": [
    {
      "metadata": {
        "id": "BdJckj_I_Ccp",
        "colab_type": "code",
        "outputId": "343f19c4-8069-421b-8f48-d40a3c6d2030",
        "colab": {
          "base_uri": "https://localhost:8080/",
          "height": 122
        }
      },
      "cell_type": "code",
      "source": [
        "from google.colab import drive\n",
        "drive.mount('/content/gdrive/')"
      ],
      "execution_count": 0,
      "outputs": [
        {
          "output_type": "stream",
          "text": [
            "Go to this URL in a browser: https://accounts.google.com/o/oauth2/auth?client_id=947318989803-6bn6qk8qdgf4n4g3pfee6491hc0brc4i.apps.googleusercontent.com&redirect_uri=urn%3Aietf%3Awg%3Aoauth%3A2.0%3Aoob&scope=email%20https%3A%2F%2Fwww.googleapis.com%2Fauth%2Fdocs.test%20https%3A%2F%2Fwww.googleapis.com%2Fauth%2Fdrive%20https%3A%2F%2Fwww.googleapis.com%2Fauth%2Fdrive.photos.readonly%20https%3A%2F%2Fwww.googleapis.com%2Fauth%2Fpeopleapi.readonly&response_type=code\n",
            "\n",
            "Enter your authorization code:\n",
            "··········\n",
            "Mounted at /content/gdrive/\n"
          ],
          "name": "stdout"
        }
      ]
    },
    {
      "metadata": {
        "id": "QOpdP8BVEQNr",
        "colab_type": "text"
      },
      "cell_type": "markdown",
      "source": [
        "## Import necessary packages"
      ]
    },
    {
      "metadata": {
        "id": "IbcDEQxcAmxg",
        "colab_type": "code",
        "colab": {}
      },
      "cell_type": "code",
      "source": [
        "import pandas as pd\n",
        "import numpy as np\n",
        "from sklearn.model_selection import train_test_split\n",
        "import torch\n",
        "import torch.autograd as autograd\n",
        "from torch.autograd import Variable\n",
        "import torch.nn as nn\n",
        "import torch.optim as optim\n",
        "import matplotlib.pyplot as plt\n",
        "import numpy as np\n",
        "import os\n",
        "os.chdir('gdrive/My Drive/Pucho')\n",
        "plt.style.use(\"ggplot\")\n",
        "device = torch.device(\"cuda:0\" if torch.cuda.is_available() else \"cpu\")"
      ],
      "execution_count": 0,
      "outputs": []
    },
    {
      "metadata": {
        "id": "uReP3opIEVrd",
        "colab_type": "text"
      },
      "cell_type": "markdown",
      "source": [
        "## Data Loading"
      ]
    },
    {
      "metadata": {
        "id": "xupxt0VrAnrR",
        "colab_type": "code",
        "outputId": "1d02b006-c03c-47e1-e9fc-74925e8609d5",
        "colab": {
          "base_uri": "https://localhost:8080/",
          "height": 34
        }
      },
      "cell_type": "code",
      "source": [
        "data = pd.read_csv(\"ner.csv\", encoding = \"ISO-8859-1\", error_bad_lines=False)"
      ],
      "execution_count": 0,
      "outputs": [
        {
          "output_type": "stream",
          "text": [
            "b'Skipping line 281837: expected 25 fields, saw 34\\n'\n"
          ],
          "name": "stderr"
        }
      ]
    },
    {
      "metadata": {
        "id": "cb2D328MA0VI",
        "colab_type": "code",
        "outputId": "e7cb7b81-dacd-4f14-d0b7-3e0bbf7e83c2",
        "colab": {
          "base_uri": "https://localhost:8080/",
          "height": 287
        }
      },
      "cell_type": "code",
      "source": [
        "data.head()"
      ],
      "execution_count": 0,
      "outputs": [
        {
          "output_type": "execute_result",
          "data": {
            "text/html": [
              "<div>\n",
              "<style scoped>\n",
              "    .dataframe tbody tr th:only-of-type {\n",
              "        vertical-align: middle;\n",
              "    }\n",
              "\n",
              "    .dataframe tbody tr th {\n",
              "        vertical-align: top;\n",
              "    }\n",
              "\n",
              "    .dataframe thead th {\n",
              "        text-align: right;\n",
              "    }\n",
              "</style>\n",
              "<table border=\"1\" class=\"dataframe\">\n",
              "  <thead>\n",
              "    <tr style=\"text-align: right;\">\n",
              "      <th></th>\n",
              "      <th>Unnamed: 0</th>\n",
              "      <th>lemma</th>\n",
              "      <th>next-lemma</th>\n",
              "      <th>next-next-lemma</th>\n",
              "      <th>next-next-pos</th>\n",
              "      <th>next-next-shape</th>\n",
              "      <th>next-next-word</th>\n",
              "      <th>next-pos</th>\n",
              "      <th>next-shape</th>\n",
              "      <th>next-word</th>\n",
              "      <th>...</th>\n",
              "      <th>prev-prev-lemma</th>\n",
              "      <th>prev-prev-pos</th>\n",
              "      <th>prev-prev-shape</th>\n",
              "      <th>prev-prev-word</th>\n",
              "      <th>prev-shape</th>\n",
              "      <th>prev-word</th>\n",
              "      <th>sentence_idx</th>\n",
              "      <th>shape</th>\n",
              "      <th>word</th>\n",
              "      <th>tag</th>\n",
              "    </tr>\n",
              "  </thead>\n",
              "  <tbody>\n",
              "    <tr>\n",
              "      <th>0</th>\n",
              "      <td>0</td>\n",
              "      <td>thousand</td>\n",
              "      <td>of</td>\n",
              "      <td>demonstr</td>\n",
              "      <td>NNS</td>\n",
              "      <td>lowercase</td>\n",
              "      <td>demonstrators</td>\n",
              "      <td>IN</td>\n",
              "      <td>lowercase</td>\n",
              "      <td>of</td>\n",
              "      <td>...</td>\n",
              "      <td>__start2__</td>\n",
              "      <td>__START2__</td>\n",
              "      <td>wildcard</td>\n",
              "      <td>__START2__</td>\n",
              "      <td>wildcard</td>\n",
              "      <td>__START1__</td>\n",
              "      <td>1.0</td>\n",
              "      <td>capitalized</td>\n",
              "      <td>Thousands</td>\n",
              "      <td>O</td>\n",
              "    </tr>\n",
              "    <tr>\n",
              "      <th>1</th>\n",
              "      <td>1</td>\n",
              "      <td>of</td>\n",
              "      <td>demonstr</td>\n",
              "      <td>have</td>\n",
              "      <td>VBP</td>\n",
              "      <td>lowercase</td>\n",
              "      <td>have</td>\n",
              "      <td>NNS</td>\n",
              "      <td>lowercase</td>\n",
              "      <td>demonstrators</td>\n",
              "      <td>...</td>\n",
              "      <td>__start1__</td>\n",
              "      <td>__START1__</td>\n",
              "      <td>wildcard</td>\n",
              "      <td>__START1__</td>\n",
              "      <td>capitalized</td>\n",
              "      <td>Thousands</td>\n",
              "      <td>1.0</td>\n",
              "      <td>lowercase</td>\n",
              "      <td>of</td>\n",
              "      <td>O</td>\n",
              "    </tr>\n",
              "    <tr>\n",
              "      <th>2</th>\n",
              "      <td>2</td>\n",
              "      <td>demonstr</td>\n",
              "      <td>have</td>\n",
              "      <td>march</td>\n",
              "      <td>VBN</td>\n",
              "      <td>lowercase</td>\n",
              "      <td>marched</td>\n",
              "      <td>VBP</td>\n",
              "      <td>lowercase</td>\n",
              "      <td>have</td>\n",
              "      <td>...</td>\n",
              "      <td>thousand</td>\n",
              "      <td>NNS</td>\n",
              "      <td>capitalized</td>\n",
              "      <td>Thousands</td>\n",
              "      <td>lowercase</td>\n",
              "      <td>of</td>\n",
              "      <td>1.0</td>\n",
              "      <td>lowercase</td>\n",
              "      <td>demonstrators</td>\n",
              "      <td>O</td>\n",
              "    </tr>\n",
              "    <tr>\n",
              "      <th>3</th>\n",
              "      <td>3</td>\n",
              "      <td>have</td>\n",
              "      <td>march</td>\n",
              "      <td>through</td>\n",
              "      <td>IN</td>\n",
              "      <td>lowercase</td>\n",
              "      <td>through</td>\n",
              "      <td>VBN</td>\n",
              "      <td>lowercase</td>\n",
              "      <td>marched</td>\n",
              "      <td>...</td>\n",
              "      <td>of</td>\n",
              "      <td>IN</td>\n",
              "      <td>lowercase</td>\n",
              "      <td>of</td>\n",
              "      <td>lowercase</td>\n",
              "      <td>demonstrators</td>\n",
              "      <td>1.0</td>\n",
              "      <td>lowercase</td>\n",
              "      <td>have</td>\n",
              "      <td>O</td>\n",
              "    </tr>\n",
              "    <tr>\n",
              "      <th>4</th>\n",
              "      <td>4</td>\n",
              "      <td>march</td>\n",
              "      <td>through</td>\n",
              "      <td>london</td>\n",
              "      <td>NNP</td>\n",
              "      <td>capitalized</td>\n",
              "      <td>London</td>\n",
              "      <td>IN</td>\n",
              "      <td>lowercase</td>\n",
              "      <td>through</td>\n",
              "      <td>...</td>\n",
              "      <td>demonstr</td>\n",
              "      <td>NNS</td>\n",
              "      <td>lowercase</td>\n",
              "      <td>demonstrators</td>\n",
              "      <td>lowercase</td>\n",
              "      <td>have</td>\n",
              "      <td>1.0</td>\n",
              "      <td>lowercase</td>\n",
              "      <td>marched</td>\n",
              "      <td>O</td>\n",
              "    </tr>\n",
              "  </tbody>\n",
              "</table>\n",
              "<p>5 rows × 25 columns</p>\n",
              "</div>"
            ],
            "text/plain": [
              "   Unnamed: 0     lemma next-lemma next-next-lemma next-next-pos  \\\n",
              "0           0  thousand         of        demonstr           NNS   \n",
              "1           1        of   demonstr            have           VBP   \n",
              "2           2  demonstr       have           march           VBN   \n",
              "3           3      have      march         through            IN   \n",
              "4           4     march    through          london           NNP   \n",
              "\n",
              "  next-next-shape next-next-word next-pos next-shape      next-word ...  \\\n",
              "0       lowercase  demonstrators       IN  lowercase             of ...   \n",
              "1       lowercase           have      NNS  lowercase  demonstrators ...   \n",
              "2       lowercase        marched      VBP  lowercase           have ...   \n",
              "3       lowercase        through      VBN  lowercase        marched ...   \n",
              "4     capitalized         London       IN  lowercase        through ...   \n",
              "\n",
              "  prev-prev-lemma prev-prev-pos prev-prev-shape prev-prev-word   prev-shape  \\\n",
              "0      __start2__    __START2__        wildcard     __START2__     wildcard   \n",
              "1      __start1__    __START1__        wildcard     __START1__  capitalized   \n",
              "2        thousand           NNS     capitalized      Thousands    lowercase   \n",
              "3              of            IN       lowercase             of    lowercase   \n",
              "4        demonstr           NNS       lowercase  demonstrators    lowercase   \n",
              "\n",
              "       prev-word sentence_idx        shape           word tag  \n",
              "0     __START1__          1.0  capitalized      Thousands   O  \n",
              "1      Thousands          1.0    lowercase             of   O  \n",
              "2             of          1.0    lowercase  demonstrators   O  \n",
              "3  demonstrators          1.0    lowercase           have   O  \n",
              "4           have          1.0    lowercase        marched   O  \n",
              "\n",
              "[5 rows x 25 columns]"
            ]
          },
          "metadata": {
            "tags": []
          },
          "execution_count": 4
        }
      ]
    },
    {
      "metadata": {
        "id": "f54OV_LFEaWA",
        "colab_type": "text"
      },
      "cell_type": "markdown",
      "source": [
        "## Data Pre-processing"
      ]
    },
    {
      "metadata": {
        "id": "urIFKi0cBXt8",
        "colab_type": "code",
        "colab": {}
      },
      "cell_type": "code",
      "source": [
        "train =data.drop(['Unnamed: 0', 'lemma', 'next-lemma', 'next-next-lemma', 'next-next-pos',\n",
        "       'next-next-shape', 'next-next-word', 'next-pos', 'next-shape',\n",
        "       'next-word', 'prev-iob', 'prev-lemma', 'prev-pos',\n",
        "       'prev-prev-iob', 'prev-prev-lemma', 'prev-prev-pos', 'prev-prev-shape',\n",
        "       'prev-prev-word', 'prev-shape', 'prev-word',\"pos\",\"shape\"],axis=1)"
      ],
      "execution_count": 0,
      "outputs": []
    },
    {
      "metadata": {
        "id": "HEsrwjv0CyAU",
        "colab_type": "code",
        "colab": {}
      },
      "cell_type": "code",
      "source": [
        "# Create list of list of tuples to differentiate each sentence from each other\n",
        "class SentenceGetter(object):\n",
        "    \n",
        "    def __init__(self, dataset):\n",
        "        self.n_sent = 1\n",
        "        self.dataset = dataset\n",
        "        self.empty = False\n",
        "        agg_func = lambda s: [(w, t) for w,t in zip(s[\"word\"].values.tolist(),\n",
        "                                                        s[\"tag\"].values.tolist())]\n",
        "        self.grouped = self.dataset.groupby(\"sentence_idx\").apply(agg_func)\n",
        "        self.sentences = [s for s in self.grouped]\n",
        "    \n",
        "    def get_next(self):\n",
        "        try:\n",
        "            s = self.grouped[\"Sentence: {}\".format(self.n_sent)]\n",
        "            self.n_sent += 1\n",
        "            return s\n",
        "        except:\n",
        "            return None"
      ],
      "execution_count": 0,
      "outputs": []
    },
    {
      "metadata": {
        "id": "s8tVmv7oC1X7",
        "colab_type": "code",
        "colab": {}
      },
      "cell_type": "code",
      "source": [
        "getter = SentenceGetter(train)"
      ],
      "execution_count": 0,
      "outputs": []
    },
    {
      "metadata": {
        "id": "r102F_yVC4TZ",
        "colab_type": "code",
        "colab": {}
      },
      "cell_type": "code",
      "source": [
        "sentences = getter.sentences"
      ],
      "execution_count": 0,
      "outputs": []
    },
    {
      "metadata": {
        "id": "YeRjJFeTC7kP",
        "colab_type": "code",
        "outputId": "20c34939-4356-474d-d632-5bfe9060b9b9",
        "colab": {
          "base_uri": "https://localhost:8080/",
          "height": 34
        }
      },
      "cell_type": "code",
      "source": [
        "maxlen = max([len(s) for s in sentences])\n",
        "print ('Maximum sequence length:', maxlen)"
      ],
      "execution_count": 0,
      "outputs": [
        {
          "output_type": "stream",
          "text": [
            "Maximum sequence length: 140\n"
          ],
          "name": "stdout"
        }
      ]
    },
    {
      "metadata": {
        "id": "CsamBkAAC-St",
        "colab_type": "code",
        "outputId": "48d4cf29-aab1-42de-a87b-9f4774e8b188",
        "colab": {
          "base_uri": "https://localhost:8080/",
          "height": 34
        }
      },
      "cell_type": "code",
      "source": [
        "# Total words used in training corpus\n",
        "words = list(set(train[\"word\"].values))\n",
        "words.append(\"ENDPAD\")\n",
        "print(len(words))"
      ],
      "execution_count": 0,
      "outputs": [
        {
          "output_type": "stream",
          "text": [
            "30174\n"
          ],
          "name": "stdout"
        }
      ]
    },
    {
      "metadata": {
        "id": "ns5uLWaxDCi6",
        "colab_type": "code",
        "outputId": "85ea9592-a03f-43aa-c17b-933237c6ff97",
        "colab": {
          "base_uri": "https://localhost:8080/",
          "height": 34
        }
      },
      "cell_type": "code",
      "source": [
        "# Total tags for words\n",
        "tags = list(set(train[\"tag\"].values))\n",
        "print(len(tags))"
      ],
      "execution_count": 0,
      "outputs": [
        {
          "output_type": "stream",
          "text": [
            "18\n"
          ],
          "name": "stdout"
        }
      ]
    },
    {
      "metadata": {
        "id": "7KN36Lw6DFUa",
        "colab_type": "code",
        "colab": {}
      },
      "cell_type": "code",
      "source": [
        "# Create diction for each word & tags\n",
        "word2idx = {}\n",
        "i=0\n",
        "for word in words:\n",
        "    word2idx.update({word:i})\n",
        "    i+=1\n",
        "     \n",
        "tag2idx = {}\n",
        "i=0\n",
        "for tag in tags:\n",
        "    tag2idx.update({tag:i})\n",
        "    i+=1"
      ],
      "execution_count": 0,
      "outputs": []
    },
    {
      "metadata": {
        "id": "V7xL1LDaDIaI",
        "colab_type": "code",
        "outputId": "64cf4caa-fa90-4328-db67-386c74266156",
        "colab": {
          "base_uri": "https://localhost:8080/",
          "height": 34
        }
      },
      "cell_type": "code",
      "source": [
        "index = np.random.randint(low= 0,high=len(words))\n",
        "print(words[index],\"-->\",word2idx[words[index]])"
      ],
      "execution_count": 0,
      "outputs": [
        {
          "output_type": "stream",
          "text": [
            "Derg --> 12629\n"
          ],
          "name": "stdout"
        }
      ]
    },
    {
      "metadata": {
        "id": "hwGt6K-lEfCa",
        "colab_type": "text"
      },
      "cell_type": "markdown",
      "source": [
        "## Data Visualization"
      ]
    },
    {
      "metadata": {
        "id": "FEWQ5EBVDK6s",
        "colab_type": "code",
        "outputId": "7deaa287-47df-4ccc-8fb4-93af4ac8b37c",
        "colab": {
          "base_uri": "https://localhost:8080/",
          "height": 347
        }
      },
      "cell_type": "code",
      "source": [
        "# Sentence length distribution\n",
        "plt.hist([len(s) for s in sentences], bins=50)\n",
        "plt.show()"
      ],
      "execution_count": 0,
      "outputs": [
        {
          "output_type": "display_data",
          "data": {
            "image/png": "[encoded data removed]",
            "text/plain": [
              "<Figure size 576x396 with 1 Axes>"
            ]
          },
          "metadata": {
            "tags": []
          }
        }
      ]
    },
    {
      "metadata": {
        "id": "ohDJL6hjDNiw",
        "colab_type": "code",
        "colab": {}
      },
      "cell_type": "code",
      "source": [
        "# Top 10 most frequently occuring words in corpus\n",
        "count = [0]*(len(words)+1)\n",
        "for s in sentences:\n",
        "    for word in s:\n",
        "        count[word2idx[word[0]]]+=1\n",
        "count = np.array(count)\n",
        "index = np.argsort(count)  \n",
        "index = index[::-1]"
      ],
      "execution_count": 0,
      "outputs": []
    },
    {
      "metadata": {
        "id": "lZm-AFNRDQWM",
        "colab_type": "code",
        "outputId": "d8ae9f60-094b-4d9d-91fc-c51b4961f9b9",
        "colab": {
          "base_uri": "https://localhost:8080/",
          "height": 472
        }
      },
      "cell_type": "code",
      "source": [
        "plt.rcdefaults()\n",
        "fig, ax = plt.subplots()\n",
        "\n",
        "# Example data\n",
        "people = [words[index[i]] for i in range(10)]\n",
        "y_pos = np.arange(len(people))\n",
        "performance = [count[index[i]] for i in range(10)]\n",
        "error = np.random.rand(len(people))\n",
        "ax.barh(y_pos, performance, xerr=error, align='center',\n",
        "        color='green', ecolor='black')\n",
        "ax.set_yticks(y_pos)\n",
        "ax.set_yticklabels(people)\n",
        "ax.invert_yaxis()  # labels read top-to-bottom\n",
        "ax.set_xlabel('Word Count')\n",
        "ax.set_title('Different word counts')\n",
        "plt.show()"
      ],
      "execution_count": 0,
      "outputs": [
        {
          "output_type": "display_data",
          "data": {
            "image/png": "[encoded data removed]",
            "text/plain": [
              "<Figure size 640x480 with 1 Axes>"
            ]
          },
          "metadata": {
            "tags": []
          }
        }
      ]
    },
    {
      "metadata": {
        "id": "I3FjU56cDS1Y",
        "colab_type": "code",
        "colab": {}
      },
      "cell_type": "code",
      "source": [
        "def Plot_Tag(tag,topk=10,color='green'):\n",
        "    if tag not in tags:\n",
        "        print(\"No such tags found in training label\")\n",
        "    else:\n",
        "        count = [0]*(len(words)+1)\n",
        "        for s in sentences:\n",
        "            for word in s:\n",
        "                if(word[1]==tag):\n",
        "                    count[word2idx[word[0]]]+=1\n",
        "        count = np.array(count)\n",
        "        index = np.argsort(count)  \n",
        "        index = index[::-1]\n",
        "        plt.rcdefaults()\n",
        "        fig, ax = plt.subplots()\n",
        "\n",
        "        # Example data\n",
        "        people = [words[index[i]] for i in range(topk)]\n",
        "        y_pos = np.arange(len(people))\n",
        "        performance = [count[index[i]] for i in range(topk)]\n",
        "        error  =0 \n",
        "        ax.barh(y_pos, performance, xerr=error, align='center',\n",
        "                color=color, ecolor='black')\n",
        "        ax.set_yticks(y_pos)\n",
        "        ax.set_yticklabels(people)\n",
        "        ax.invert_yaxis()  # labels read top-to-bottom\n",
        "        ax.set_xlabel( tag+' Count')\n",
        "        ax.set_title('Different ' +\" \"+tag+ ' counts')\n",
        "        plt.show()"
      ],
      "execution_count": 0,
      "outputs": []
    },
    {
      "metadata": {
        "id": "96TqnLeADV5d",
        "colab_type": "code",
        "outputId": "37872f77-44cb-4e7d-8ba7-caedf4034246",
        "colab": {
          "base_uri": "https://localhost:8080/",
          "height": 472
        }
      },
      "cell_type": "code",
      "source": [
        "# Most frequently used citizens in corpus\n",
        "Plot_Tag(tag='B-gpe',color='darkgreen')"
      ],
      "execution_count": 0,
      "outputs": [
        {
          "output_type": "display_data",
          "data": {
            "image/png": "[encoded data removed]",
            "text/plain": [
              "<Figure size 640x480 with 1 Axes>"
            ]
          },
          "metadata": {
            "tags": []
          }
        }
      ]
    },
    {
      "metadata": {
        "id": "Lp_LyG15DZwy",
        "colab_type": "code",
        "outputId": "91a77d4f-087a-47cc-8e7c-d3000ccb588f",
        "colab": {
          "base_uri": "https://localhost:8080/",
          "height": 472
        }
      },
      "cell_type": "code",
      "source": [
        "# Some of the most frequently used countries in training corpus\n",
        "Plot_Tag(tag='B-geo',color='orange')"
      ],
      "execution_count": 0,
      "outputs": [
        {
          "output_type": "display_data",
          "data": {
            "image/png": "[encoded data removed]",
            "text/plain": [
              "<Figure size 640x480 with 1 Axes>"
            ]
          },
          "metadata": {
            "tags": []
          }
        }
      ]
    },
    {
      "metadata": {
        "id": "Y4XQYAqDDcPd",
        "colab_type": "code",
        "outputId": "d1a059d8-9b92-4eb4-8b48-34a71b7d25bc",
        "colab": {
          "base_uri": "https://localhost:8080/",
          "height": 472
        }
      },
      "cell_type": "code",
      "source": [
        "# Some of the most frequently used organization in training corpus\n",
        "Plot_Tag(tag='B-org',color='red')"
      ],
      "execution_count": 0,
      "outputs": [
        {
          "output_type": "display_data",
          "data": {
            "image/png": "[encoded data removed]",
            "text/plain": [
              "<Figure size 640x480 with 1 Axes>"
            ]
          },
          "metadata": {
            "tags": []
          }
        }
      ]
    },
    {
      "metadata": {
        "id": "4RY7uUQ2DfBu",
        "colab_type": "code",
        "outputId": "017ebcfb-f44f-4081-9152-2278d651560e",
        "colab": {
          "base_uri": "https://localhost:8080/",
          "height": 472
        }
      },
      "cell_type": "code",
      "source": [
        "# Some of the most frequently used topics/Natual Calamities in training corpus\n",
        "Plot_Tag(tag='I-nat',color='cyan')"
      ],
      "execution_count": 0,
      "outputs": [
        {
          "output_type": "display_data",
          "data": {
            "image/png": "[encoded data removed]",
            "text/plain": [
              "<Figure size 640x480 with 1 Axes>"
            ]
          },
          "metadata": {
            "tags": []
          }
        }
      ]
    },
    {
      "metadata": {
        "id": "O8-jNP34DhHy",
        "colab_type": "code",
        "outputId": "1c49ae49-4f1d-4412-d060-e5f33f3954d4",
        "colab": {
          "base_uri": "https://localhost:8080/",
          "height": 472
        }
      },
      "cell_type": "code",
      "source": [
        "# Some of the most frequently used time in training corpus\n",
        "Plot_Tag(tag='B-tim',color='yellow')"
      ],
      "execution_count": 0,
      "outputs": [
        {
          "output_type": "display_data",
          "data": {
            "image/png": "[encoded data removed]",
            "text/plain": [
              "<Figure size 640x480 with 1 Axes>"
            ]
          },
          "metadata": {
            "tags": []
          }
        }
      ]
    },
    {
      "metadata": {
        "id": "MrlMA7z0Ek0P",
        "colab_type": "text"
      },
      "cell_type": "markdown",
      "source": [
        "## Splitting data into training and test data"
      ]
    },
    {
      "metadata": {
        "id": "OWT4e3aPDjYz",
        "colab_type": "code",
        "outputId": "5252a323-a61d-4ddd-a240-afdf52256897",
        "colab": {
          "base_uri": "https://localhost:8080/",
          "height": 51
        }
      },
      "cell_type": "code",
      "source": [
        "X = [[[word2idx[w[0]] for w in s]] for s in sentences]\n",
        "\n",
        "y = [[tag2idx[w[1]] for w in s] for s in sentences]\n",
        "\n",
        "\n",
        "# Split the data into training & test set\n",
        "X_train, X_test, y_train, y_test = train_test_split(X, y, test_size=0.2)\n",
        "\n",
        "print(\"Total number of training example: \"+str(len(X_train)))\n",
        "print(\"Total number of test example: \"+str(len(X_test)))\n",
        "\n",
        "inputs_train = []\n",
        "labels_train = []\n",
        "sequence_length_train = []\n",
        "\n",
        "for i in range(len(X_train)):\n",
        "    inputs_train.append(Variable(torch.LongTensor(X_train[i])).to(device))\n",
        "    labels_train.append(Variable(torch.LongTensor(y_train[i])).to(device))\n",
        "    sequence_length_train.append(len(X_train[i][0]))"
      ],
      "execution_count": 0,
      "outputs": [
        {
          "output_type": "stream",
          "text": [
            "Total number of training example: 28141\n",
            "Total number of test example: 7036\n"
          ],
          "name": "stdout"
        }
      ]
    },
    {
      "metadata": {
        "id": "aWHVy6XgDmXl",
        "colab_type": "code",
        "colab": {}
      },
      "cell_type": "code",
      "source": [
        "# Define Model Parameter\n",
        "num_classes = len(tags)\n",
        "input_size = len(words)  # Vocabulary size\n",
        "embedding_size = 10  # embedding size\n",
        "hidden_size = len(tags)  # output from the LSTM (feed to fully connected layer)\n",
        "batch_size = 1   # one sentence (We taking one sentence at a time as sentence are of different lenght)\n",
        "num_layers = 1  # one-layer rnn"
      ],
      "execution_count": 0,
      "outputs": []
    },
    {
      "metadata": {
        "id": "6aOvs2cHEvzU",
        "colab_type": "text"
      },
      "cell_type": "markdown",
      "source": [
        "## Model Training"
      ]
    },
    {
      "metadata": {
        "id": "6j1vGD4EDp4F",
        "colab_type": "code",
        "colab": {}
      },
      "cell_type": "code",
      "source": [
        "class Model(nn.Module):\n",
        "\n",
        "    def __init__(self):\n",
        "        super(Model, self).__init__()\n",
        "    \n",
        "        self.embedding = nn.Embedding(input_size, embedding_size)\n",
        "        self.rnn = nn.RNN(input_size=embedding_size,hidden_size=hidden_size, batch_first=True,bidirectional=False)\n",
        "        self.fc = nn.Linear(hidden_size, num_classes)\n",
        "\n",
        "    def forward(self, x,sequence_length):\n",
        "        # Initialize hidden\n",
        "        # (num_layers , batch, hidden_size)\n",
        "        \n",
        "        h0 = Variable(torch.zeros(num_layers, x.size(0), hidden_size)).to(device)\n",
        "        #c0 = Variable(torch.zeros(num_layers*2, x.size(0), hidden_size)).to(device)\n",
        "\n",
        "        emb = self.embedding(x)\n",
        "        emb = emb.view(batch_size, sequence_length, -1)\n",
        "\n",
        "        # Propagate embedding through RNN\n",
        "        # Input: (batch, seq_len, embedding_size)\n",
        "        # h_0: (num_layers * num_directions, batch, hidden_size)\n",
        "        out, _ = self.rnn(emb, h0)\n",
        "        return self.fc(out.view(-1, num_classes))"
      ],
      "execution_count": 0,
      "outputs": []
    },
    {
      "metadata": {
        "id": "ZZaQO5mWDsSL",
        "colab_type": "code",
        "colab": {}
      },
      "cell_type": "code",
      "source": [
        "model = Model()\n",
        "model = model.to(device)\n",
        "criterion = torch.nn.CrossEntropyLoss()\n",
        "optimizer = torch.optim.Adam(model.parameters(), lr=0.01)"
      ],
      "execution_count": 0,
      "outputs": []
    },
    {
      "metadata": {
        "id": "nyO4dcRlDunR",
        "colab_type": "code",
        "outputId": "dc40f9e2-4ecd-4f2e-ad62-09b00c37f894",
        "colab": {
          "base_uri": "https://localhost:8080/",
          "height": 187
        }
      },
      "cell_type": "code",
      "source": [
        "test_total = sum(sequence_length_train)\n",
        "for epoch in range(10):\n",
        "    cum_loss =0\n",
        "    \n",
        "    test_correct =0\n",
        "    for i in range(len(X_train)):\n",
        "        outputs = model.forward(inputs_train[i],sequence_length_train[i])\n",
        "        #print(outputs)\n",
        "        optimizer.zero_grad()\n",
        "        loss = criterion(outputs, labels_train[i])\n",
        "        cum_loss +=loss.item()\n",
        "        loss.backward()\n",
        "        optimizer.step()\n",
        "        _, test_predicted = torch.max(outputs.data, 1)\n",
        "        test_correct += (test_predicted == labels_train[i]).sum().item()\n",
        "        \n",
        "    print('Epoch [{:d}], train accuracy: {:4.2f} %, average train_loss {:.3f}'.format(epoch+1, 100*test_correct/test_total, cum_loss/len(X_train)))"
      ],
      "execution_count": 0,
      "outputs": [
        {
          "output_type": "stream",
          "text": [
            "Epoch [1], train accuracy: 92.72 %, average train_loss 0.264\n",
            "Epoch [2], train accuracy: 94.81 %, average train_loss 0.182\n",
            "Epoch [3], train accuracy: 95.39 %, average train_loss 0.163\n",
            "Epoch [4], train accuracy: 95.63 %, average train_loss 0.156\n",
            "Epoch [5], train accuracy: 95.80 %, average train_loss 0.149\n",
            "Epoch [6], train accuracy: 95.91 %, average train_loss 0.145\n",
            "Epoch [7], train accuracy: 96.01 %, average train_loss 0.141\n",
            "Epoch [8], train accuracy: 96.05 %, average train_loss 0.141\n",
            "Epoch [9], train accuracy: 96.14 %, average train_loss 0.139\n",
            "Epoch [10], train accuracy: 96.18 %, average train_loss 0.139\n"
          ],
          "name": "stdout"
        }
      ]
    },
    {
      "metadata": {
        "id": "RGU4ZpDaLmAi",
        "colab_type": "code",
        "colab": {}
      },
      "cell_type": "code",
      "source": [
        "inputs_test = []\n",
        "labels_test = []\n",
        "sequence_length_test = []\n",
        "\n",
        "for i in range(len(X_test)):\n",
        "    inputs_test.append(Variable(torch.LongTensor(X_test[i])).to(device))\n",
        "    labels_test.append(Variable(torch.LongTensor(y_test[i])).to(device))\n",
        "    sequence_length_test.append(len(X_test[i][0]))"
      ],
      "execution_count": 0,
      "outputs": []
    },
    {
      "metadata": {
        "id": "pSPIKy68hDgL",
        "colab_type": "code",
        "outputId": "81d39e74-01d0-4b70-e655-f4667eb11a42",
        "colab": {
          "base_uri": "https://localhost:8080/",
          "height": 34
        }
      },
      "cell_type": "code",
      "source": [
        "test_correct =0\n",
        "test_total = sum(sequence_length_test)\n",
        "cum_loss =0\n",
        "for i in range(len(X_test)):\n",
        "    outputs = model.forward(inputs_test[i],sequence_length_test[i])\n",
        "    cum_loss +=criterion(outputs,labels_test[i]).item()\n",
        "    _, test_predicted = torch.max(outputs.data, 1)\n",
        "    test_correct += (test_predicted == labels_test[i]).sum().item()\n",
        "        \n",
        "print('test accuracy: {:4.2f} %,average test_loss {:.3f}'.format( 100*test_correct/test_total, cum_loss/len(X_test)))"
      ],
      "execution_count": 0,
      "outputs": [
        {
          "output_type": "stream",
          "text": [
            "test accuracy: 94.79 %,average test_loss 0.193\n"
          ],
          "name": "stdout"
        }
      ]
    },
    {
      "metadata": {
        "id": "U-9TGhkMhke0",
        "colab_type": "code",
        "colab": {}
      },
      "cell_type": "code",
      "source": [
        "# Model with embedding size =10\n",
        "#torch.save(model.state_dict(),\"/Model\")"
      ],
      "execution_count": 0,
      "outputs": []
    }
  ]
}